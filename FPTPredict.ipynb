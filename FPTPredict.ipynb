{
  "cells": [
    {
      "cell_type": "code",
      "source": [
        "from google.colab import drive\n",
        "drive.mount('/content/drive')"
      ],
      "metadata": {
        "id": "6pk4mIU_pwX9",
        "outputId": "94fa213f-d0ac-43fd-9f14-b0520c5309bb",
        "colab": {
          "base_uri": "https://localhost:8080/"
        }
      },
      "execution_count": 1,
      "outputs": [
        {
          "output_type": "stream",
          "name": "stdout",
          "text": [
            "Mounted at /content/drive\n"
          ]
        }
      ]
    },
    {
      "cell_type": "code",
      "source": [
        "import numpy as np\n",
        "import matplotlib.pyplot as plt\n",
        "import pandas as pd\n",
        "import os.path\n",
        "from os import path\n",
        "from sklearn.preprocessing import MinMaxScaler\n",
        "from keras.models import Sequential\n",
        "from keras.layers import Dense\n",
        "from keras.layers import LSTM\n",
        "from keras.layers import Dropout"
      ],
      "metadata": {
        "id": "_PzOjJWXpzNa"
      },
      "execution_count": 2,
      "outputs": []
    },
    {
      "cell_type": "code",
      "source": [
        "# Đọc file, lấy cột Date/Time và Close\n",
        "df = pd.read_csv('/content/drive/MyDrive/Stock/FPT.csv')\n",
        "df = df.drop(['Ticker','Open','High','Low','Volume','Open Interest'],axis=1)\n",
        "# Bổ sung data còn thiếu bằng cách copy dữ liệu ở hàng gần nhất\n",
        "df['Date/Time'] = pd.to_datetime(df['Date/Time'])\n",
        "\n",
        "def create_full_time_range(x):\n",
        "    date = x['Date/Time'].dt.date.iloc[0]\n",
        "    full_time_range = pd.date_range(start=f'{date} 09:15:00', end=f'{date} 14:46:00', freq='min')\n",
        "    full_time_range = full_time_range[(full_time_range.time >= pd.to_datetime('9:15').time()) & (full_time_range.time <= pd.to_datetime('11:30').time()) | (full_time_range.time >= pd.to_datetime('13:00').time()) & (full_time_range.time <= pd.to_datetime('14:46').time())]\n",
        "    return pd.DataFrame({'Date/Time': full_time_range})\n",
        "\n",
        "full_df = df.groupby(df['Date/Time'].dt.date).apply(create_full_time_range).reset_index(drop=True)\n",
        "\n",
        "# Kết hợp dữ liệu ban đầu với dữ liệu được tạo ra\n",
        "result = pd.merge(full_df, df, on='Date/Time', how='left')\n",
        "# # Điền dữ liệu cho các cột khác\n",
        "result['Close'] = result['Close'].fillna(method='ffill')\n",
        "# Lấy dữ liệu cột Close\n",
        "data = result.iloc[:,[1]].values\n",
        "\n",
        "# Chuẩn hóa dữ liệu \n",
        "from sklearn.preprocessing import MinMaxScaler\n",
        "sc = MinMaxScaler(feature_range = (0, 1))\n",
        "data= sc.fit_transform(data)"
      ],
      "metadata": {
        "id": "eNGRg37zp2xr"
      },
      "execution_count": 82,
      "outputs": []
    },
    {
      "cell_type": "code",
      "source": [
        "print(len(data))"
      ],
      "metadata": {
        "colab": {
          "base_uri": "https://localhost:8080/"
        },
        "id": "GKmuVZrTJuBh",
        "outputId": "4cd2518b-65e8-49e0-dc93-bfbcc8efa0ad"
      },
      "execution_count": 83,
      "outputs": [
        {
          "output_type": "stream",
          "name": "stdout",
          "text": [
            "121257\n"
          ]
        }
      ]
    },
    {
      "cell_type": "code",
      "source": [
        "#Chia data theo ngày \n",
        "size=243\n",
        "temp=0\n",
        "day=[]\n",
        "dataset=[]\n",
        "for i in range(len(data)):\n",
        "  day.append(data[i])\n",
        "  temp+=1\n",
        "  if (temp==size):\n",
        "    temp=0\n",
        "    dataset.append(day)\n",
        "    day=[]\n",
        "dataset=np.asarray(dataset)\n",
        "dataset=dataset.reshape(len(dataset),size)\n",
        "print(dataset.shape)"
      ],
      "metadata": {
        "id": "0jn1Tf_9p4xf",
        "colab": {
          "base_uri": "https://localhost:8080/"
        },
        "outputId": "507c7010-59ec-4d75-9b81-d7f6701b5292"
      },
      "execution_count": 84,
      "outputs": [
        {
          "output_type": "stream",
          "name": "stdout",
          "text": [
            "(499, 243)\n"
          ]
        }
      ]
    },
    {
      "cell_type": "code",
      "source": [
        "# Chia data thành tập train và nhãn theo yêu cầu lấy dữ liệu 7 ngày để dự đoán cho 1 ngày kế tiếp\n",
        "wd_size=7\n",
        "h_size=1\n",
        "X_dataset = []\n",
        "y_dataset = []\n",
        "no_of_sample = len(dataset)\n",
        "for i in range(wd_size, no_of_sample):\n",
        "    X_dataset.append(dataset[i-wd_size:i])\n",
        "    y_dataset.append(dataset[i:i+h_size])\n",
        "X_dataset, y_dataset = np.array(X_dataset), np.array(y_dataset)\n",
        "\n",
        "X_dataset=X_dataset.reshape(no_of_sample - wd_size,size * wd_size,1)\n",
        "y_dataset=y_dataset.reshape(no_of_sample - wd_size,size)\n",
        "print(X_dataset.shape,y_dataset.shape)"
      ],
      "metadata": {
        "id": "UHEH7J4wp8t0",
        "outputId": "7381e4c3-b37d-4575-d49c-9c9eaa998b02",
        "colab": {
          "base_uri": "https://localhost:8080/"
        }
      },
      "execution_count": 85,
      "outputs": [
        {
          "output_type": "stream",
          "name": "stdout",
          "text": [
            "(492, 1701, 1) (492, 243)\n"
          ]
        }
      ]
    },
    {
      "cell_type": "code",
      "source": [
        "# Phân chia tập train, test\n",
        "train_size = int(len(X_dataset) * 0.8)\n",
        "test_size = len(X_dataset) - train_size\n",
        "X_train, X_test = X_dataset[0:train_size,:], X_dataset[train_size:len(X_dataset),:]\n",
        "y_train, y_test = y_dataset[0:train_size,:], y_dataset[train_size:len(y_dataset),:]\n",
        "print(X_train.shape,y_train.shape)\n",
        "print(X_test.shape, y_test.shape)"
      ],
      "metadata": {
        "id": "U1gSehZIxcaT",
        "outputId": "4c68b6ec-36f5-4c02-a8a1-e186d163f61b",
        "colab": {
          "base_uri": "https://localhost:8080/"
        }
      },
      "execution_count": 86,
      "outputs": [
        {
          "output_type": "stream",
          "name": "stdout",
          "text": [
            "(393, 1701, 1) (393, 243)\n",
            "(99, 1701, 1) (99, 243)\n"
          ]
        }
      ]
    },
    {
      "cell_type": "code",
      "source": [
        "# # Xay dung model LSTM\n",
        "Myfinal = Sequential()\n",
        "Myfinal.add(LSTM(units = 50, return_sequences = True, input_shape = (X_train.shape[1], 1)))\n",
        "Myfinal.add(Dropout(0.2))\n",
        "Myfinal.add(LSTM(units = 50, return_sequences = True))\n",
        "Myfinal.add(Dropout(0.2))\n",
        "Myfinal.add(LSTM(units = 50, return_sequences = True))\n",
        "Myfinal.add(Dropout(0.2))\n",
        "Myfinal.add(LSTM(units = 50))\n",
        "Myfinal.add(Dropout(0.2))\n",
        "Myfinal.add(Dense(units = size))\n",
        "Myfinal.compile(optimizer = 'adam', loss = 'mean_squared_error')\n",
        "Myfinal.summary()"
      ],
      "metadata": {
        "id": "_7GHsx1Up_BR",
        "outputId": "0c4262a1-d5f8-46a9-fbd9-a0669350a19c",
        "colab": {
          "base_uri": "https://localhost:8080/"
        }
      },
      "execution_count": 101,
      "outputs": [
        {
          "output_type": "stream",
          "name": "stdout",
          "text": [
            "Model: \"sequential_9\"\n",
            "_________________________________________________________________\n",
            " Layer (type)                Output Shape              Param #   \n",
            "=================================================================\n",
            " lstm_36 (LSTM)              (None, 1701, 50)          10400     \n",
            "                                                                 \n",
            " dropout_36 (Dropout)        (None, 1701, 50)          0         \n",
            "                                                                 \n",
            " lstm_37 (LSTM)              (None, 1701, 50)          20200     \n",
            "                                                                 \n",
            " dropout_37 (Dropout)        (None, 1701, 50)          0         \n",
            "                                                                 \n",
            " lstm_38 (LSTM)              (None, 1701, 50)          20200     \n",
            "                                                                 \n",
            " dropout_38 (Dropout)        (None, 1701, 50)          0         \n",
            "                                                                 \n",
            " lstm_39 (LSTM)              (None, 50)                20200     \n",
            "                                                                 \n",
            " dropout_39 (Dropout)        (None, 50)                0         \n",
            "                                                                 \n",
            " dense_9 (Dense)             (None, 243)               12393     \n",
            "                                                                 \n",
            "=================================================================\n",
            "Total params: 83,393\n",
            "Trainable params: 83,393\n",
            "Non-trainable params: 0\n",
            "_________________________________________________________________\n"
          ]
        }
      ]
    },
    {
      "cell_type": "code",
      "source": [
        "Myfinal.fit(X_train, y_train, epochs = 150, batch_size = 32)\n",
        "Myfinal.save(\"Myfinal.h5\")"
      ],
      "metadata": {
        "id": "FCXMlxDcqBN3",
        "outputId": "e66ac817-a00b-4865-e373-5df18bd5d272",
        "colab": {
          "base_uri": "https://localhost:8080/"
        }
      },
      "execution_count": 102,
      "outputs": [
        {
          "output_type": "stream",
          "name": "stdout",
          "text": [
            "Epoch 1/150\n",
            "13/13 [==============================] - 12s 167ms/step - loss: 0.1999\n",
            "Epoch 2/150\n",
            "13/13 [==============================] - 2s 156ms/step - loss: 0.0820\n",
            "Epoch 3/150\n",
            "13/13 [==============================] - 2s 156ms/step - loss: 0.0230\n",
            "Epoch 4/150\n",
            "13/13 [==============================] - 2s 156ms/step - loss: 0.0126\n",
            "Epoch 5/150\n",
            "13/13 [==============================] - 2s 185ms/step - loss: 0.0107\n",
            "Epoch 6/150\n",
            "13/13 [==============================] - 2s 184ms/step - loss: 0.0091\n",
            "Epoch 7/150\n",
            "13/13 [==============================] - 2s 156ms/step - loss: 0.0076\n",
            "Epoch 8/150\n",
            "13/13 [==============================] - 2s 156ms/step - loss: 0.0073\n",
            "Epoch 9/150\n",
            "13/13 [==============================] - 2s 158ms/step - loss: 0.0067\n",
            "Epoch 10/150\n",
            "13/13 [==============================] - 2s 156ms/step - loss: 0.0061\n",
            "Epoch 11/150\n",
            "13/13 [==============================] - 2s 180ms/step - loss: 0.0058\n",
            "Epoch 12/150\n",
            "13/13 [==============================] - 3s 202ms/step - loss: 0.0059\n",
            "Epoch 13/150\n",
            "13/13 [==============================] - 2s 156ms/step - loss: 0.0057\n",
            "Epoch 14/150\n",
            "13/13 [==============================] - 2s 156ms/step - loss: 0.0051\n",
            "Epoch 15/150\n",
            "13/13 [==============================] - 2s 156ms/step - loss: 0.0050\n",
            "Epoch 16/150\n",
            "13/13 [==============================] - 2s 155ms/step - loss: 0.0046\n",
            "Epoch 17/150\n",
            "13/13 [==============================] - 2s 160ms/step - loss: 0.0048\n",
            "Epoch 18/150\n",
            "13/13 [==============================] - 3s 197ms/step - loss: 0.0046\n",
            "Epoch 19/150\n",
            "13/13 [==============================] - 2s 168ms/step - loss: 0.0050\n",
            "Epoch 20/150\n",
            "13/13 [==============================] - 2s 156ms/step - loss: 0.0043\n",
            "Epoch 21/150\n",
            "13/13 [==============================] - 2s 155ms/step - loss: 0.0042\n",
            "Epoch 22/150\n",
            "13/13 [==============================] - 2s 156ms/step - loss: 0.0040\n",
            "Epoch 23/150\n",
            "13/13 [==============================] - 2s 171ms/step - loss: 0.0036\n",
            "Epoch 24/150\n",
            "13/13 [==============================] - 3s 197ms/step - loss: 0.0038\n",
            "Epoch 25/150\n",
            "13/13 [==============================] - 2s 173ms/step - loss: 0.0036\n",
            "Epoch 26/150\n",
            "13/13 [==============================] - 2s 157ms/step - loss: 0.0035\n",
            "Epoch 27/150\n",
            "13/13 [==============================] - 2s 155ms/step - loss: 0.0031\n",
            "Epoch 28/150\n",
            "13/13 [==============================] - 2s 155ms/step - loss: 0.0035\n",
            "Epoch 29/150\n",
            "13/13 [==============================] - 2s 155ms/step - loss: 0.0032\n",
            "Epoch 30/150\n",
            "13/13 [==============================] - 2s 183ms/step - loss: 0.0036\n",
            "Epoch 31/150\n",
            "13/13 [==============================] - 3s 253ms/step - loss: 0.0034\n",
            "Epoch 32/150\n",
            "13/13 [==============================] - 2s 162ms/step - loss: 0.0032\n",
            "Epoch 33/150\n",
            "13/13 [==============================] - 2s 155ms/step - loss: 0.0033\n",
            "Epoch 34/150\n",
            "13/13 [==============================] - 2s 156ms/step - loss: 0.0033\n",
            "Epoch 35/150\n",
            "13/13 [==============================] - 2s 155ms/step - loss: 0.0032\n",
            "Epoch 36/150\n",
            "13/13 [==============================] - 2s 188ms/step - loss: 0.0033\n",
            "Epoch 37/150\n",
            "13/13 [==============================] - 2s 184ms/step - loss: 0.0028\n",
            "Epoch 38/150\n",
            "13/13 [==============================] - 2s 155ms/step - loss: 0.0029\n",
            "Epoch 39/150\n",
            "13/13 [==============================] - 2s 156ms/step - loss: 0.0029\n",
            "Epoch 40/150\n",
            "13/13 [==============================] - 2s 156ms/step - loss: 0.0027\n",
            "Epoch 41/150\n",
            "13/13 [==============================] - 2s 156ms/step - loss: 0.0030\n",
            "Epoch 42/150\n",
            "13/13 [==============================] - 2s 169ms/step - loss: 0.0028\n",
            "Epoch 43/150\n",
            "13/13 [==============================] - 3s 200ms/step - loss: 0.0027\n",
            "Epoch 44/150\n",
            "13/13 [==============================] - 2s 156ms/step - loss: 0.0026\n",
            "Epoch 45/150\n",
            "13/13 [==============================] - 2s 156ms/step - loss: 0.0027\n",
            "Epoch 46/150\n",
            "13/13 [==============================] - 2s 155ms/step - loss: 0.0031\n",
            "Epoch 47/150\n",
            "13/13 [==============================] - 2s 156ms/step - loss: 0.0036\n",
            "Epoch 48/150\n",
            "13/13 [==============================] - 2s 155ms/step - loss: 0.0025\n",
            "Epoch 49/150\n",
            "13/13 [==============================] - 3s 196ms/step - loss: 0.0023\n",
            "Epoch 50/150\n",
            "13/13 [==============================] - 2s 172ms/step - loss: 0.0024\n",
            "Epoch 51/150\n",
            "13/13 [==============================] - 2s 157ms/step - loss: 0.0025\n",
            "Epoch 52/150\n",
            "13/13 [==============================] - 2s 155ms/step - loss: 0.0026\n",
            "Epoch 53/150\n",
            "13/13 [==============================] - 2s 155ms/step - loss: 0.0023\n",
            "Epoch 54/150\n",
            "13/13 [==============================] - 2s 156ms/step - loss: 0.0025\n",
            "Epoch 55/150\n",
            "13/13 [==============================] - 2s 184ms/step - loss: 0.0026\n",
            "Epoch 56/150\n",
            "13/13 [==============================] - 2s 186ms/step - loss: 0.0023\n",
            "Epoch 57/150\n",
            "13/13 [==============================] - 2s 156ms/step - loss: 0.0023\n",
            "Epoch 58/150\n",
            "13/13 [==============================] - 2s 155ms/step - loss: 0.0024\n",
            "Epoch 59/150\n",
            "13/13 [==============================] - 2s 155ms/step - loss: 0.0022\n",
            "Epoch 60/150\n",
            "13/13 [==============================] - 2s 155ms/step - loss: 0.0024\n",
            "Epoch 61/150\n",
            "13/13 [==============================] - 2s 167ms/step - loss: 0.0026\n",
            "Epoch 62/150\n",
            "13/13 [==============================] - 3s 202ms/step - loss: 0.0026\n",
            "Epoch 63/150\n",
            "13/13 [==============================] - 2s 162ms/step - loss: 0.0021\n",
            "Epoch 64/150\n",
            "13/13 [==============================] - 2s 155ms/step - loss: 0.0019\n",
            "Epoch 65/150\n",
            "13/13 [==============================] - 2s 155ms/step - loss: 0.0022\n",
            "Epoch 66/150\n",
            "13/13 [==============================] - 2s 155ms/step - loss: 0.0021\n",
            "Epoch 67/150\n",
            "13/13 [==============================] - 2s 156ms/step - loss: 0.0024\n",
            "Epoch 68/150\n",
            "13/13 [==============================] - 3s 200ms/step - loss: 0.0021\n",
            "Epoch 69/150\n",
            "13/13 [==============================] - 2s 175ms/step - loss: 0.0023\n",
            "Epoch 70/150\n",
            "13/13 [==============================] - 2s 155ms/step - loss: 0.0026\n",
            "Epoch 71/150\n",
            "13/13 [==============================] - 2s 155ms/step - loss: 0.0020\n",
            "Epoch 72/150\n",
            "13/13 [==============================] - 2s 156ms/step - loss: 0.0021\n",
            "Epoch 73/150\n",
            "13/13 [==============================] - 2s 156ms/step - loss: 0.0020\n",
            "Epoch 74/150\n",
            "13/13 [==============================] - 2s 182ms/step - loss: 0.0018\n",
            "Epoch 75/150\n",
            "13/13 [==============================] - 2s 190ms/step - loss: 0.0019\n",
            "Epoch 76/150\n",
            "13/13 [==============================] - 2s 155ms/step - loss: 0.0018\n",
            "Epoch 77/150\n",
            "13/13 [==============================] - 2s 155ms/step - loss: 0.0021\n",
            "Epoch 78/150\n",
            "13/13 [==============================] - 2s 156ms/step - loss: 0.0018\n",
            "Epoch 79/150\n",
            "13/13 [==============================] - 2s 156ms/step - loss: 0.0019\n",
            "Epoch 80/150\n",
            "13/13 [==============================] - 2s 168ms/step - loss: 0.0018\n",
            "Epoch 81/150\n",
            "13/13 [==============================] - 3s 203ms/step - loss: 0.0019\n",
            "Epoch 82/150\n",
            "13/13 [==============================] - 2s 163ms/step - loss: 0.0020\n",
            "Epoch 83/150\n",
            "13/13 [==============================] - 2s 156ms/step - loss: 0.0018\n",
            "Epoch 84/150\n",
            "13/13 [==============================] - 2s 156ms/step - loss: 0.0020\n",
            "Epoch 85/150\n",
            "13/13 [==============================] - 2s 156ms/step - loss: 0.0017\n",
            "Epoch 86/150\n",
            "13/13 [==============================] - 2s 156ms/step - loss: 0.0020\n",
            "Epoch 87/150\n",
            "13/13 [==============================] - 2s 195ms/step - loss: 0.0019\n",
            "Epoch 88/150\n",
            "13/13 [==============================] - 2s 174ms/step - loss: 0.0021\n",
            "Epoch 89/150\n",
            "13/13 [==============================] - 2s 156ms/step - loss: 0.0019\n",
            "Epoch 90/150\n",
            "13/13 [==============================] - 2s 157ms/step - loss: 0.0018\n",
            "Epoch 91/150\n",
            "13/13 [==============================] - 2s 155ms/step - loss: 0.0018\n",
            "Epoch 92/150\n",
            "13/13 [==============================] - 2s 155ms/step - loss: 0.0019\n",
            "Epoch 93/150\n",
            "13/13 [==============================] - 2s 179ms/step - loss: 0.0016\n",
            "Epoch 94/150\n",
            "13/13 [==============================] - 2s 188ms/step - loss: 0.0018\n",
            "Epoch 95/150\n",
            "13/13 [==============================] - 2s 157ms/step - loss: 0.0018\n",
            "Epoch 96/150\n",
            "13/13 [==============================] - 2s 157ms/step - loss: 0.0019\n",
            "Epoch 97/150\n",
            "13/13 [==============================] - 2s 157ms/step - loss: 0.0015\n",
            "Epoch 98/150\n",
            "13/13 [==============================] - 2s 157ms/step - loss: 0.0017\n",
            "Epoch 99/150\n",
            "13/13 [==============================] - 2s 169ms/step - loss: 0.0018\n",
            "Epoch 100/150\n",
            "13/13 [==============================] - 3s 201ms/step - loss: 0.0018\n",
            "Epoch 101/150\n",
            "13/13 [==============================] - 2s 160ms/step - loss: 0.0015\n",
            "Epoch 102/150\n",
            "13/13 [==============================] - 2s 155ms/step - loss: 0.0017\n",
            "Epoch 103/150\n",
            "13/13 [==============================] - 2s 155ms/step - loss: 0.0015\n",
            "Epoch 104/150\n",
            "13/13 [==============================] - 2s 155ms/step - loss: 0.0016\n",
            "Epoch 105/150\n",
            "13/13 [==============================] - 2s 155ms/step - loss: 0.0017\n",
            "Epoch 106/150\n",
            "13/13 [==============================] - 2s 194ms/step - loss: 0.0015\n",
            "Epoch 107/150\n",
            "13/13 [==============================] - 2s 176ms/step - loss: 0.0017\n",
            "Epoch 108/150\n",
            "13/13 [==============================] - 2s 156ms/step - loss: 0.0017\n",
            "Epoch 109/150\n",
            "13/13 [==============================] - 2s 156ms/step - loss: 0.0018\n",
            "Epoch 110/150\n",
            "13/13 [==============================] - 2s 156ms/step - loss: 0.0017\n",
            "Epoch 111/150\n",
            "13/13 [==============================] - 2s 156ms/step - loss: 0.0016\n",
            "Epoch 112/150\n",
            "13/13 [==============================] - 2s 180ms/step - loss: 0.0015\n",
            "Epoch 113/150\n",
            "13/13 [==============================] - 3s 193ms/step - loss: 0.0016\n",
            "Epoch 114/150\n",
            "13/13 [==============================] - 2s 155ms/step - loss: 0.0019\n",
            "Epoch 115/150\n",
            "13/13 [==============================] - 2s 156ms/step - loss: 0.0016\n",
            "Epoch 116/150\n",
            "13/13 [==============================] - 2s 155ms/step - loss: 0.0017\n",
            "Epoch 117/150\n",
            "13/13 [==============================] - 2s 155ms/step - loss: 0.0017\n",
            "Epoch 118/150\n",
            "13/13 [==============================] - 2s 168ms/step - loss: 0.0016\n",
            "Epoch 119/150\n",
            "13/13 [==============================] - 3s 202ms/step - loss: 0.0016\n",
            "Epoch 120/150\n",
            "13/13 [==============================] - 2s 159ms/step - loss: 0.0022\n",
            "Epoch 121/150\n",
            "13/13 [==============================] - 2s 156ms/step - loss: 0.0015\n",
            "Epoch 122/150\n",
            "13/13 [==============================] - 2s 155ms/step - loss: 0.0015\n",
            "Epoch 123/150\n",
            "13/13 [==============================] - 2s 157ms/step - loss: 0.0014\n",
            "Epoch 124/150\n",
            "13/13 [==============================] - 2s 156ms/step - loss: 0.0014\n",
            "Epoch 125/150\n",
            "13/13 [==============================] - 3s 197ms/step - loss: 0.0015\n",
            "Epoch 126/150\n",
            "13/13 [==============================] - 2s 176ms/step - loss: 0.0016\n",
            "Epoch 127/150\n",
            "13/13 [==============================] - 2s 155ms/step - loss: 0.0014\n",
            "Epoch 128/150\n",
            "13/13 [==============================] - 2s 155ms/step - loss: 0.0013\n",
            "Epoch 129/150\n",
            "13/13 [==============================] - 2s 156ms/step - loss: 0.0015\n",
            "Epoch 130/150\n",
            "13/13 [==============================] - 2s 156ms/step - loss: 0.0013\n",
            "Epoch 131/150\n",
            "13/13 [==============================] - 2s 185ms/step - loss: 0.0014\n",
            "Epoch 132/150\n",
            "13/13 [==============================] - 2s 191ms/step - loss: 0.0014\n",
            "Epoch 133/150\n",
            "13/13 [==============================] - 2s 156ms/step - loss: 0.0015\n",
            "Epoch 134/150\n",
            "13/13 [==============================] - 2s 155ms/step - loss: 0.0015\n",
            "Epoch 135/150\n",
            "13/13 [==============================] - 2s 155ms/step - loss: 0.0016\n",
            "Epoch 136/150\n",
            "13/13 [==============================] - 2s 156ms/step - loss: 0.0016\n",
            "Epoch 137/150\n",
            "13/13 [==============================] - 2s 168ms/step - loss: 0.0012\n",
            "Epoch 138/150\n",
            "13/13 [==============================] - 3s 203ms/step - loss: 0.0013\n",
            "Epoch 139/150\n",
            "13/13 [==============================] - 2s 160ms/step - loss: 0.0014\n",
            "Epoch 140/150\n",
            "13/13 [==============================] - 2s 156ms/step - loss: 0.0014\n",
            "Epoch 141/150\n",
            "13/13 [==============================] - 2s 155ms/step - loss: 0.0012\n",
            "Epoch 142/150\n",
            "13/13 [==============================] - 2s 155ms/step - loss: 0.0014\n",
            "Epoch 143/150\n",
            "13/13 [==============================] - 2s 156ms/step - loss: 0.0014\n",
            "Epoch 144/150\n",
            "13/13 [==============================] - 3s 196ms/step - loss: 0.0016\n",
            "Epoch 145/150\n",
            "13/13 [==============================] - 2s 174ms/step - loss: 0.0013\n",
            "Epoch 146/150\n",
            "13/13 [==============================] - 2s 157ms/step - loss: 0.0014\n",
            "Epoch 147/150\n",
            "13/13 [==============================] - 2s 157ms/step - loss: 0.0018\n",
            "Epoch 148/150\n",
            "13/13 [==============================] - 2s 155ms/step - loss: 0.0014\n",
            "Epoch 149/150\n",
            "13/13 [==============================] - 2s 156ms/step - loss: 0.0013\n",
            "Epoch 150/150\n",
            "13/13 [==============================] - 2s 189ms/step - loss: 0.0013\n"
          ]
        }
      ]
    },
    {
      "cell_type": "code",
      "source": [
        "predicted_stock_price = Myfinal.predict(X_test)\n",
        "predicted_stock_price = sc.inverse_transform(predicted_stock_price)"
      ],
      "metadata": {
        "colab": {
          "base_uri": "https://localhost:8080/"
        },
        "id": "yet1OGs8lkKg",
        "outputId": "10f2d06d-2928-4bfc-c8d6-7cac37c93288"
      },
      "execution_count": 103,
      "outputs": [
        {
          "output_type": "stream",
          "name": "stdout",
          "text": [
            "4/4 [==============================] - 3s 91ms/step\n"
          ]
        }
      ]
    },
    {
      "cell_type": "code",
      "source": [
        "# print(predicted_stock_price)\n",
        "print(predicted_stock_price.shape)"
      ],
      "metadata": {
        "colab": {
          "base_uri": "https://localhost:8080/"
        },
        "id": "C7kSPvj5mNsU",
        "outputId": "7d4b94fc-e0d2-4493-84de-636487ac78b7"
      },
      "execution_count": 104,
      "outputs": [
        {
          "output_type": "stream",
          "name": "stdout",
          "text": [
            "(99, 243)\n"
          ]
        }
      ]
    },
    {
      "cell_type": "code",
      "source": [
        "real_stock_price=sc.inverse_transform(y_test)"
      ],
      "metadata": {
        "id": "Mhqw_jagmYjF"
      },
      "execution_count": 105,
      "outputs": []
    },
    {
      "cell_type": "code",
      "source": [
        "plt.plot(real_stock_price, color = 'red')\n",
        "plt.plot(predicted_stock_price, color = 'blue')\n",
        "# plt.plot(predicted_stock_price - real_stock_price)\n",
        "plt.title('FPT Stock Price Prediction')\n",
        "plt.xlabel('Time')\n",
        "plt.ylabel('FPT Stock Price')\n",
        "plt.legend()\n",
        "plt.show()"
      ],
      "metadata": {
        "colab": {
          "base_uri": "https://localhost:8080/",
          "height": 509
        },
        "id": "sz9NgzYJnckT",
        "outputId": "817f2dbd-4c29-4b55-b996-cd4ede888223"
      },
      "execution_count": 106,
      "outputs": [
        {
          "output_type": "stream",
          "name": "stderr",
          "text": [
            "WARNING:matplotlib.legend:No artists with labels found to put in legend.  Note that artists whose label start with an underscore are ignored when legend() is called with no argument.\n"
          ]
        },
        {
          "output_type": "display_data",
          "data": {
            "text/plain": [
              "<Figure size 640x480 with 1 Axes>"
            ],
            "image/png": "[encoded data removed]"
          },
          "metadata": {}
        }
      ]
    },
    {
      "cell_type": "code",
      "source": [
        "real=[]\n",
        "predict=[]\n",
        "change=[]\n",
        "for i in range(0,98):\n",
        "  real.append(real_stock_price[i][242])\n",
        "  predict.append(predicted_stock_price[i][242])\n",
        "  change.append(real_stock_price[i][242]-predicted_stock_price[i][242])\n",
        "# plt.plot(real-predict, color = 'red')\n",
        "plt.plot(change, color = 'blue')\n",
        "plt.title('Biến động theo giá đóng cửa lúc 14h46')\n",
        "plt.xlabel('Time')\n",
        "plt.ylabel('FPT Stock Price')\n",
        "plt.legend()\n",
        "plt.show()"
      ],
      "metadata": {
        "colab": {
          "base_uri": "https://localhost:8080/",
          "height": 510
        },
        "id": "7ATQTm1tly_N",
        "outputId": "46f238c1-6506-46f1-8ff8-584e899d485f"
      },
      "execution_count": 107,
      "outputs": [
        {
          "output_type": "stream",
          "name": "stderr",
          "text": [
            "WARNING:matplotlib.legend:No artists with labels found to put in legend.  Note that artists whose label start with an underscore are ignored when legend() is called with no argument.\n"
          ]
        },
        {
          "output_type": "display_data",
          "data": {
            "text/plain": [
              "<Figure size 640x480 with 1 Axes>"
            ],
            "image/png": "[encoded data removed]"
          },
          "metadata": {}
        }
      ]
    }
  ],
  "metadata": {
    "colab": {
      "provenance": [],
      "gpuType": "T4"
    },
    "kernelspec": {
      "display_name": "Python 3",
      "name": "python3"
    },
    "accelerator": "GPU",
    "gpuClass": "standard"
  },
  "nbformat": 4,
  "nbformat_minor": 0
}